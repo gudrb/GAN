{
 "cells": [
  {
   "cell_type": "code",
   "execution_count": 42,
   "metadata": {},
   "outputs": [],
   "source": [
    "import tensorflow as tf\n",
    "import sklearn"
   ]
  },
  {
   "cell_type": "code",
   "execution_count": 24,
   "metadata": {},
   "outputs": [],
   "source": [
    "cost = tf.reduce_mean(tf.square([1,2,3])) #제곱의 평균"
   ]
  },
  {
   "cell_type": "code",
   "execution_count": 25,
   "metadata": {},
   "outputs": [
    {
     "data": {
      "text/plain": [
       "4"
      ]
     },
     "execution_count": 25,
     "metadata": {},
     "output_type": "execute_result"
    }
   ],
   "source": [
    "sess = tf.Session()\n",
    "sess.run(cost)"
   ]
  },
  {
   "cell_type": "code",
   "execution_count": 30,
   "metadata": {
    "scrolled": true
   },
   "outputs": [
    {
     "name": "stdout",
     "output_type": "stream",
     "text": [
      "0 13.928058 [1.082976] [0.24142939]\n",
      "1 0.17054959 [0.90896] [0.1599531]\n",
      "2 0.0060151145 [0.9299494] [0.16437848]\n",
      "3 0.0038607775 [0.92957854] [0.15952303]\n",
      "4 0.003655067 [0.931496] [0.155787]\n",
      "5 0.0034811862 [0.9331183] [0.15203121]\n",
      "6 0.0033158269 [0.93472874] [0.14837766]\n",
      "7 0.0031583132 [0.9362975] [0.14481062]\n",
      "8 0.0030082904 [0.9378289] [0.1413295]\n",
      "9 0.0028654032 [0.9393235] [0.13793205]\n",
      "10 0.0027292846 [0.94078207] [0.13461626]\n",
      "11 0.0025996452 [0.9422056] [0.13138016]\n",
      "12 0.0024761653 [0.943595] [0.12822188]\n",
      "13 0.0023585397 [0.9449509] [0.1251395]\n",
      "14 0.0022465116 [0.9462742] [0.12213124]\n",
      "15 0.0021398002 [0.9475658] [0.1191953]\n",
      "16 0.00203816 [0.9488263] [0.11632994]\n",
      "17 0.001941342 [0.95005643] [0.11353343]\n",
      "18 0.0018491276 [0.95125705] [0.11080417]\n",
      "19 0.0017612929 [0.9524288] [0.10814052]\n",
      "20 0.001677629 [0.9535724] [0.1055409]\n",
      "21 0.0015979366 [0.95468843] [0.10300375]\n",
      "22 0.0015220408 [0.95577776] [0.10052764]\n",
      "23 0.0014497396 [0.9568408] [0.09811101]\n",
      "24 0.0013808762 [0.95787835] [0.09575249]\n",
      "25 0.0013152835 [0.9588909] [0.09345065]\n",
      "26 0.0012528084 [0.95987916] [0.09120417]\n",
      "27 0.0011932972 [0.9608436] [0.08901167]\n",
      "28 0.0011366108 [0.9617849] [0.08687189]\n",
      "29 0.0010826259 [0.9627035] [0.08478355]\n",
      "30 0.001031196 [0.96360016] [0.08274543]\n",
      "31 0.0009822156 [0.96447515] [0.08075627]\n",
      "32 0.0009355628 [0.9653292] [0.07881496]\n",
      "33 0.0008911215 [0.9661626] [0.07692029]\n",
      "34 0.00084879505 [0.96697605] [0.07507119]\n",
      "35 0.0008084776 [0.96777] [0.07326655]\n",
      "36 0.0007700718 [0.9685448] [0.07150526]\n",
      "37 0.00073348917 [0.96930087] [0.0697863]\n",
      "38 0.0006986487 [0.97003883] [0.06810868]\n",
      "39 0.0006654616 [0.9707591] [0.06647141]\n",
      "40 0.0006338559 [0.9714621] [0.0648735]\n",
      "41 0.00060374604 [0.97214806] [0.06331397]\n",
      "42 0.00057506544 [0.9728176] [0.06179195]\n",
      "43 0.0005477531 [0.97347105] [0.06030652]\n",
      "44 0.0005217346 [0.9741088] [0.0588568]\n",
      "45 0.00049694994 [0.9747312] [0.05744191]\n",
      "46 0.00047334481 [0.97533864] [0.05606104]\n",
      "47 0.00045086246 [0.97593147] [0.05471337]\n",
      "48 0.00042944308 [0.97651005] [0.0533981]\n",
      "49 0.00040904558 [0.97707474] [0.05211445]\n",
      "50 0.0003896143 [0.97762585] [0.05086165]\n",
      "51 0.00037110748 [0.9781638] [0.04963899]\n",
      "52 0.00035347874 [0.97868866] [0.04844567]\n",
      "53 0.00033668883 [0.979201] [0.04728108]\n",
      "54 0.00032069776 [0.979701] [0.04614446]\n",
      "55 0.0003054623 [0.98018897] [0.04503518]\n",
      "56 0.0002909534 [0.9806652] [0.04395256]\n",
      "57 0.00027713357 [0.98113] [0.04289597]\n",
      "58 0.00026396845 [0.9815836] [0.04186478]\n",
      "59 0.0002514291 [0.9820263] [0.04085837]\n",
      "60 0.00023948781 [0.9824584] [0.0398762]\n",
      "61 0.00022810973 [0.98288006] [0.0389176]\n",
      "62 0.00021727715 [0.9832916] [0.03798206]\n",
      "63 0.00020695628 [0.9836933] [0.037069]\n",
      "64 0.00019712471 [0.98408526] [0.03617788]\n",
      "65 0.00018776277 [0.98446786] [0.03530819]\n",
      "66 0.00017884425 [0.9848413] [0.03445942]\n",
      "67 0.00017034814 [0.98520565] [0.03363103]\n",
      "68 0.00016225608 [0.98556125] [0.03282255]\n",
      "69 0.00015454825 [0.9859084] [0.03203354]\n",
      "70 0.00014720878 [0.9862472] [0.0312635]\n",
      "71 0.00014021336 [0.9865777] [0.03051191]\n",
      "72 0.00013355559 [0.98690045] [0.02977845]\n",
      "73 0.00012721002 [0.9872153] [0.02906257]\n",
      "74 0.00012116887 [0.98752266] [0.02836395]\n",
      "75 0.000115412964 [0.9878226] [0.02768208]\n",
      "76 0.00010993063 [0.9881153] [0.02701661]\n",
      "77 0.0001047086 [0.98840106] [0.02636716]\n",
      "78 9.973412e-05 [0.9886798] [0.02573329]\n",
      "79 9.4997966e-05 [0.98895204] [0.02511471]\n",
      "80 9.048462e-05 [0.9892176] [0.02451095]\n",
      "81 8.618656e-05 [0.9894768] [0.02392173]\n",
      "82 8.209207e-05 [0.98972976] [0.02334666]\n",
      "83 7.81938e-05 [0.9899767] [0.02278543]\n",
      "84 7.4479285e-05 [0.99021757] [0.02223765]\n",
      "85 7.0942064e-05 [0.9904528] [0.02170311]\n",
      "86 6.757119e-05 [0.9906823] [0.02118137]\n",
      "87 6.436246e-05 [0.9909063] [0.02067217]\n",
      "88 6.13043e-05 [0.99112487] [0.02017521]\n",
      "89 5.8392383e-05 [0.99133825] [0.01969022]\n",
      "90 5.5618893e-05 [0.99154645] [0.01921687]\n",
      "91 5.2976637e-05 [0.9917497] [0.01875491]\n",
      "92 5.0460065e-05 [0.991948] [0.01830406]\n",
      "93 4.8064063e-05 [0.9921416] [0.01786404]\n",
      "94 4.57805e-05 [0.99233055] [0.01743461]\n",
      "95 4.3605585e-05 [0.99251485] [0.01701547]\n",
      "96 4.153432e-05 [0.9926948] [0.01660644]\n",
      "97 3.9561786e-05 [0.99287045] [0.01620724]\n",
      "98 3.768174e-05 [0.9930418] [0.01581761]\n",
      "99 3.589169e-05 [0.99320906] [0.01543737]\n",
      "\n",
      " === Test ===\n",
      "X:5, Y: [4.981483]\n",
      "X: 2.5, Y: [2.49846]\n"
     ]
    }
   ],
   "source": [
    "x_data = [1,2,3]\n",
    "y_data = [1,2,3]\n",
    "\n",
    "W = tf.Variable(tf.random_uniform([1],-1.0,1.0))\n",
    "b = tf.Variable(tf.random_uniform([1],-1.0,1.0))\n",
    "\n",
    "X = tf.placeholder(tf.float32, name =\"X\")\n",
    "Y = tf.placeholder(tf.float32, name = \"Y\")\n",
    "\n",
    "hypothesis = W*X+b\n",
    "\n",
    "cost = tf.reduce_mean(tf.square(hypothesis - Y))\n",
    "optimizer = tf.train.GradientDescentOptimizer(learning_rate = 0.1)\n",
    "train_op = optimizer.minimize(cost)\n",
    "\n",
    "with tf.Session() as sess:\n",
    "    sess.run(tf.global_variables_initializer())\n",
    "    \n",
    "    for step in range(100):\n",
    "        _,cost_val = sess.run([train_op,cost],feed_dict ={X:x_data,Y:y_data})\n",
    "        \n",
    "        print(step,cost_val,sess.run(W),sess.run(b))\n",
    "    print(\"\\n === Test ===\")\n",
    "    print(\"X:5, Y:\", sess.run(hypothesis,feed_dict={X: 5}))\n",
    "    print(\"X: 2.5, Y:\", sess.run(hypothesis,feed_dict={X:2.5}))"
   ]
  },
  {
   "cell_type": "code",
   "execution_count": null,
   "metadata": {},
   "outputs": [],
   "source": [
    "import tensorflow as tf\n",
    "import matplotlib.pyplot as plt\n",
    "import numpy as np\n",
    "\n",
    "from tensorflow.examples.tutorials.mnist import input_data"
   ]
  },
  {
   "cell_type": "code",
   "execution_count": 46,
   "metadata": {
    "scrolled": true
   },
   "outputs": [],
   "source": [
    "# from sklearn.datasets.mldata import fetch_mldata\n",
    "# mnist = fetch_mldata('mnist-original', data_home='/media/Vancouver/apps/mnist_dataset/')\n",
    "from tensorflow.examples.tutorials.mnist import input_data\n",
    "mnist = input_data.read_data_sets(\"MNIST_data\", one_hot=True)"
   ]
  },
  {
   "cell_type": "code",
   "execution_count": 96,
   "metadata": {},
   "outputs": [],
   "source": [
    "import numpy as np\n",
    "import matplotlib.pyplot as plt\n",
    "%matplotlib inline"
   ]
  },
  {
   "cell_type": "markdown",
   "metadata": {},
   "source": [
    "# autoencoder"
   ]
  },
  {
   "cell_type": "code",
   "execution_count": 85,
   "metadata": {},
   "outputs": [],
   "source": [
    "learning_rate = 0.01\n",
    "training_epoch =20 #전체 데이터 학습횟수\n",
    "batch_size =100 #미니배치로 한번에 학습할 데이터\n",
    "n_hidden = 256 #은닉층의 갯수\n",
    "n_input = 28*28 #입력값 크기"
   ]
  },
  {
   "cell_type": "code",
   "execution_count": 62,
   "metadata": {},
   "outputs": [],
   "source": [
    "X = tf.placeholder(tf.float32,[None,n_input])\n",
    "\n",
    "W_encode = tf.Variable(tf.random_normal([n_input,n_hidden]))\n",
    "b_encode = tf.Variable(tf.random_normal([n_hidden]))\n",
    "\n",
    "encoder = tf.nn.sigmoid(tf.add(tf.matmul(X,W_encode),b_encode))"
   ]
  },
  {
   "cell_type": "code",
   "execution_count": 63,
   "metadata": {},
   "outputs": [],
   "source": [
    "W_decode = tf.Variable(tf.random_normal([n_hidden,n_input]))\n",
    "b_decode = tf.Variable(tf.random_normal([n_input]))\n",
    "decoder = tf.nn.sigmoid(tf.add(tf.matmul(encoder,W_decode),b_decode))"
   ]
  },
  {
   "cell_type": "code",
   "execution_count": 67,
   "metadata": {},
   "outputs": [],
   "source": [
    "cost = tf.reduce_mean(tf.pow(X-decoder,2))\n",
    "optimizer = tf.train.RMSPropOptimizer(learning_rate).minimize(cost)"
   ]
  },
  {
   "cell_type": "code",
   "execution_count": 80,
   "metadata": {},
   "outputs": [],
   "source": [
    "init = tf.global_variables_initializer()\n",
    "sess = tf.Session()\n",
    "sess.run(init)\n",
    "\n",
    "total_batch = int(mnist.train.num_examples/batch_size)"
   ]
  },
  {
   "cell_type": "code",
   "execution_count": 86,
   "metadata": {
    "scrolled": true
   },
   "outputs": [
    {
     "name": "stdout",
     "output_type": "stream",
     "text": [
      "Epoch: 0001 Avg.cost= 0.2024\n",
      "Epoch: 0002 Avg.cost= 0.0591\n",
      "Epoch: 0003 Avg.cost= 0.0490\n",
      "Epoch: 0004 Avg.cost= 0.0449\n",
      "Epoch: 0005 Avg.cost= 0.0411\n",
      "Epoch: 0006 Avg.cost= 0.0395\n",
      "Epoch: 0007 Avg.cost= 0.0385\n",
      "Epoch: 0008 Avg.cost= 0.0377\n",
      "Epoch: 0009 Avg.cost= 0.0367\n",
      "Epoch: 0010 Avg.cost= 0.0349\n",
      "Epoch: 0011 Avg.cost= 0.0338\n",
      "Epoch: 0012 Avg.cost= 0.0326\n",
      "Epoch: 0013 Avg.cost= 0.0321\n",
      "Epoch: 0014 Avg.cost= 0.0317\n",
      "Epoch: 0015 Avg.cost= 0.0315\n",
      "Epoch: 0016 Avg.cost= 0.0309\n",
      "Epoch: 0017 Avg.cost= 0.0307\n",
      "Epoch: 0018 Avg.cost= 0.0305\n",
      "Epoch: 0019 Avg.cost= 0.0302\n",
      "Epoch: 0020 Avg.cost= 0.0300\n"
     ]
    }
   ],
   "source": [
    "for epoch in range(training_epoch):\n",
    "    total_cost =0\n",
    "    \n",
    "    for i in range(total_batch):\n",
    "        batch_xs, batch_ys = mnist.train.next_batch(batch_size)\n",
    "        _,cost_val = sess.run([optimizer,cost],feed_dict={X:batch_xs})\n",
    "        \n",
    "        total_cost += cost_val\n",
    "        \n",
    "    print('Epoch:','%04d' % (epoch+1), 'Avg.cost=','{:.4f}'.format(total_cost/total_batch))"
   ]
  },
  {
   "cell_type": "code",
   "execution_count": 87,
   "metadata": {},
   "outputs": [],
   "source": [
    "sample_size = 10\n",
    "samples = sess.run(decoder,feed_dict={X:mnist.test.images[:sample_size]})"
   ]
  },
  {
   "cell_type": "code",
   "execution_count": 106,
   "metadata": {
    "scrolled": true
   },
   "outputs": [
    {
     "data": {
      "image/png": "[encoded data removed]",
      "text/plain": [
       "<matplotlib.figure.Figure at 0x1338d6eff98>"
      ]
     },
     "metadata": {},
     "output_type": "display_data"
    }
   ],
   "source": [
    "fig,ax=plt.subplots(2,sample_size,figsize=(sample_size,2))#2,10\n",
    "for i in range(sample_size):\n",
    "    ax[0][i].set_axis_off()\n",
    "    ax[1][i].set_axis_off()\n",
    "    ax[0][i].imshow(np.reshape(mnist.test.images[i],(28,28)))\n",
    "    ax[1][i].imshow(np.reshape(samples[i],(28,28)))\n",
    "plt.show()"
   ]
  },
  {
   "cell_type": "code",
   "execution_count": 100,
   "metadata": {},
   "outputs": [
    {
     "name": "stdout",
     "output_type": "stream",
     "text": [
      "Populating the interactive namespace from numpy and matplotlib\n"
     ]
    },
    {
     "data": {
      "image/png": "[encoded data removed]",
      "text/plain": [
       "<matplotlib.figure.Figure at 0x1338ce665c0>"
      ]
     },
     "metadata": {},
     "output_type": "display_data"
    }
   ],
   "source": []
  },
  {
   "cell_type": "code",
   "execution_count": null,
   "metadata": {},
   "outputs": [],
   "source": [
    "total_epoch = 100\n",
    "batch_size = 100\n",
    "learning_rate=0.0002\n"
   ]
  }
 ],
 "metadata": {
  "kernelspec": {
   "display_name": "Python 3",
   "language": "python",
   "name": "python3"
  },
  "language_info": {
   "codemirror_mode": {
    "name": "ipython",
    "version": 3
   },
   "file_extension": ".py",
   "mimetype": "text/x-python",
   "name": "python",
   "nbconvert_exporter": "python",
   "pygments_lexer": "ipython3",
   "version": "3.6.3"
  }
 },
 "nbformat": 4,
 "nbformat_minor": 2
}
