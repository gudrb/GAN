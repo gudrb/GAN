{
 "cells": [
  {
   "cell_type": "code",
   "execution_count": 1,
   "metadata": {},
   "outputs": [],
   "source": [
    "import tensorflow as tf"
   ]
  },
  {
   "cell_type": "markdown",
   "metadata": {},
   "source": [
    "1.auto naming and run by name"
   ]
  },
  {
   "cell_type": "code",
   "execution_count": 2,
   "metadata": {},
   "outputs": [
    {
     "name": "stdout",
     "output_type": "stream",
     "text": [
      "WARNING:tensorflow:From C:\\Users\\gudrb\\Anaconda3\\lib\\site-packages\\tensorflow\\python\\util\\tf_should_use.py:118: initialize_all_variables (from tensorflow.python.ops.variables) is deprecated and will be removed after 2017-03-02.\n",
      "Instructions for updating:\n",
      "Use `tf.global_variables_initializer` instead.\n",
      "name\n",
      "\tv1 name: Variable:0\n",
      "\tv2 name: Variable_1:0\n",
      "\tv1 value: 1.000000\n",
      "\tv2 value: 2.000000\n"
     ]
    }
   ],
   "source": [
    "v1 = tf.Variable(1.)\n",
    "v2 = tf.Variable(2.)\n",
    "\n",
    "with tf.Session() as sess:\n",
    "    init = tf.initialize_all_variables()\n",
    "    sess.run(init)\n",
    "    \n",
    "    print(\"name\")\n",
    "    print(\"\\tv1 name:\",v1.name)\n",
    "    print(\"\\tv2 name:\",v2.name)\n",
    "    v1_1, v2_1 = sess.run([\"Variable:0\",\"Variable_1:0\"]) # v1,v2 대신에 이름을 사용\n",
    "    print(\"\\tv1 value: %f\" %(v1_1))\n",
    "    print(\"\\tv2 value: %f\" %(v2_1))"
   ]
  },
  {
   "cell_type": "markdown",
   "metadata": {},
   "source": [
    "2.naming"
   ]
  },
  {
   "cell_type": "code",
   "execution_count": 3,
   "metadata": {
    "scrolled": true
   },
   "outputs": [
    {
     "name": "stdout",
     "output_type": "stream",
     "text": [
      "name\n",
      "\tv3 name: v3:0\n",
      "\tv4 name: v4:0\n",
      "\tv5 name: v5:0\n",
      "\tv6 name: v6:0\n",
      "\tv3 value: 3.000000\n",
      "\tv4 value: 4.000000\n",
      "\tv5 value: 5.000000\n",
      "\tv6 value: 6.000000\n"
     ]
    }
   ],
   "source": [
    "v3 = tf.Variable(3.,name=\"v3\")\n",
    "v4 = tf.Variable(4.,name=\"v4\")\n",
    "v5 = tf.get_variable(\"v5\",1,initializer=tf.constant_initializer(5.))\n",
    "v6 = tf.get_variable(\"v6\",1,initializer=tf.constant_initializer(6.))\n",
    "\n",
    "with tf.Session() as sess:\n",
    "    init = tf.initialize_all_variables()\n",
    "    sess.run(init)\n",
    "    \n",
    "    print(\"name\")\n",
    "    print(\"\\tv3 name:\",v3.name)\n",
    "    print(\"\\tv4 name:\",v4.name)\n",
    "    print(\"\\tv5 name:\",v5.name)\n",
    "    print(\"\\tv6 name:\",v6.name)\n",
    "    v3_1, v4_1, v5_1, v6_1 = sess.run([\"v3:0\",\"v4:0\",\"v5:0\",\"v6:0\"]) # v1,v2 대신에 이름을 사용\n",
    "    print(\"\\tv3 value: %f\" %(v3_1))\n",
    "    print(\"\\tv4 value: %f\" %(v4_1))\n",
    "    print(\"\\tv5 value: %f\" %(v5_1))\n",
    "    print(\"\\tv6 value: %f\" %(v6_1))\n",
    "# tf.get_variable은 같은 이름이 있는지 먼저 확인함."
   ]
  },
  {
   "cell_type": "markdown",
   "metadata": {},
   "source": [
    "3.name_scope"
   ]
  },
  {
   "cell_type": "code",
   "execution_count": 4,
   "metadata": {},
   "outputs": [
    {
     "name": "stdout",
     "output_type": "stream",
     "text": [
      "\tv3 name wo ns: v3_1:0\n",
      "\tv4 name wo ns: v4_1:0\n"
     ]
    }
   ],
   "source": [
    "v3 = tf.Variable(3., name=\"v3\")\n",
    "v4 = tf.Variable(4., name=\"v4\")\n",
    "\n",
    "print(\"\\tv3 name wo ns:\",v3.name)\n",
    "print(\"\\tv4 name wo ns:\",v4.name)\n",
    "#이미 v3,v4가 있으므로 v3_x, v4_x 형식으로 이름이 지정됨"
   ]
  },
  {
   "cell_type": "code",
   "execution_count": 5,
   "metadata": {},
   "outputs": [
    {
     "name": "stdout",
     "output_type": "stream",
     "text": [
      "\tv3 name w/ns and by v: scope1/v3:0\n",
      "\tv4 name w/ns and by v: scope1/v4:0\n",
      "\tv3 name w/ns and by gv: v3_2:0\n",
      "\tv4 name w/ns and by gv: v4_2:0\n"
     ]
    }
   ],
   "source": [
    "with tf.name_scope(\"scope1\"):\n",
    "    v3 = tf.Variable(3., name=\"v3\")\n",
    "    v4 = tf.Variable(4., name=\"v4\")\n",
    "    v3_1 = tf.get_variable(\"v3\",1,initializer=tf.constant_initializer(3.))\n",
    "    v4_1 = tf.get_variable(\"v4\",1,initializer=tf.constant_initializer(4.))\n",
    "    print(\"\\tv3 name w/ns and by v:\",v3.name)\n",
    "    print(\"\\tv4 name w/ns and by v:\",v4.name)\n",
    "    print(\"\\tv3 name w/ns and by gv:\",v3_1.name)\n",
    "    print(\"\\tv4 name w/ns and by gv:\",v4_1.name)\n",
    "# tf.get_variable() 은 tf.name_scope()의 영향을 받지 않는다."
   ]
  },
  {
   "cell_type": "markdown",
   "metadata": {},
   "source": [
    "4.vriable_scope"
   ]
  },
  {
   "cell_type": "code",
   "execution_count": 6,
   "metadata": {
    "scrolled": true
   },
   "outputs": [
    {
     "name": "stdout",
     "output_type": "stream",
     "text": [
      "name\n",
      "\tv1 name: scope2/v1:0\n",
      "\tv2 name: scope2/v2:0\n",
      "\tv3 name: scope2/v3:0\n",
      "\tv4 name: scope2/v4:0\n"
     ]
    }
   ],
   "source": [
    "with tf.variable_scope(\"scope2\"):\n",
    "    v1 = tf.get_variable(\"v1\",1,initializer=tf.constant_initializer(1.))\n",
    "    v2 = tf.get_variable(\"v2\",1,initializer=tf.constant_initializer(2.))\n",
    "    v3 = tf.Variable(3.,name=\"v3\")\n",
    "    v4 = tf.Variable(3.,name=\"v4\")\n",
    "    print(\"name\")\n",
    "    print(\"\\tv1 name:\",v1.name)\n",
    "    print(\"\\tv2 name:\",v2.name)\n",
    "    print(\"\\tv3 name:\",v3.name)\n",
    "    print(\"\\tv4 name:\",v4.name)\n",
    "# tf.get_variable()도 tf.variable_scope()의 영향을 받는다."
   ]
  },
  {
   "cell_type": "code",
   "execution_count": 7,
   "metadata": {
    "scrolled": true
   },
   "outputs": [
    {
     "name": "stdout",
     "output_type": "stream",
     "text": [
      "\tv1 name by sharing: scope2/v1:0\n",
      "\tv2 name by sharing: scope2/v2:0\n",
      "\tv1 values by name: 1.000000\n",
      "\tv2 values by name: 2.000000\n",
      "\tv1 values by sharing: 1.000000\n",
      "\tv2 values by sharing: 2.000000\n"
     ]
    }
   ],
   "source": [
    "with tf.variable_scope(\"scope2\",reuse=True):#앞의 scope2변수들을 다시 불러올 수 있음\n",
    "    v1_ = tf.get_variable(\"v1\")\n",
    "    v2_ = tf.get_variable(\"v2\")\n",
    "    \n",
    "with tf.Session() as sess:\n",
    "    init = tf.initialize_all_variables()\n",
    "    sess.run(init)\n",
    "    \n",
    "    print(\"\\tv1 name by sharing:\", v1_.name)\n",
    "    print(\"\\tv2 name by sharing:\", v2_.name)\n",
    "    \n",
    "    v1_1,v2_1,v1_2,v2_2 = sess.run([\"scope2/v1:0\", \"scope2/v2:0\", v1_,v2_])\n",
    "    \n",
    "    print(\"\\tv1 values by name: %f\" %(v1_1))\n",
    "    print(\"\\tv2 values by name: %f\" %(v2_1))\n",
    "    print(\"\\tv1 values by sharing: %f\" %(v1_2))\n",
    "    print(\"\\tv2 values by sharing: %f\" %(v2_2))"
   ]
  },
  {
   "cell_type": "markdown",
   "metadata": {},
   "source": [
    "tf.get_collection()"
   ]
  },
  {
   "cell_type": "code",
   "execution_count": null,
   "metadata": {},
   "outputs": [],
   "source": [
    "with tf.variable_scope(\"foo\"):\n",
    "    v = tf.get_variable(\"v\",[1]) #v.name == \"foo/v:0\"\n",
    "    w = tf.get_variable(\"W\",[1]) #W.name == \"foo/W:0\""
   ]
  },
  {
   "cell_type": "code",
   "execution_count": 12,
   "metadata": {},
   "outputs": [],
   "source": [
    "with tf.variable_scope(\"foo\", reuse=True):\n",
    "    v1 = tf.get_variable(\"v\") # The same as v above"
   ]
  },
  {
   "cell_type": "code",
   "execution_count": null,
   "metadata": {},
   "outputs": [],
   "source": []
  }
 ],
 "metadata": {
  "kernelspec": {
   "display_name": "Python 3",
   "language": "python",
   "name": "python3"
  },
  "language_info": {
   "codemirror_mode": {
    "name": "ipython",
    "version": 3
   },
   "file_extension": ".py",
   "mimetype": "text/x-python",
   "name": "python",
   "nbconvert_exporter": "python",
   "pygments_lexer": "ipython3",
   "version": "3.6.3"
  }
 },
 "nbformat": 4,
 "nbformat_minor": 2
}
